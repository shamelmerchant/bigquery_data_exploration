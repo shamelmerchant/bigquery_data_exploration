{
 "cells": [
  {
   "cell_type": "code",
   "execution_count": 1,
   "metadata": {},
   "outputs": [],
   "source": [
    "%load_ext google.cloud.bigquery\n",
    "%matplotlib inline"
   ]
  },
  {
   "cell_type": "code",
   "execution_count": 2,
   "metadata": {},
   "outputs": [],
   "source": [
    "import os\n",
    "import sys\n",
    "import pandas as pd\n",
    "import numpy as np"
   ]
  },
  {
   "cell_type": "code",
   "execution_count": 3,
   "metadata": {},
   "outputs": [],
   "source": [
    "from google.cloud import bigquery\n",
    "client = bigquery.Client()"
   ]
  },
  {
   "cell_type": "code",
   "execution_count": 10,
   "metadata": {},
   "outputs": [
    {
     "data": {
      "text/html": [
       "<div>\n",
       "<style scoped>\n",
       "    .dataframe tbody tr th:only-of-type {\n",
       "        vertical-align: middle;\n",
       "    }\n",
       "\n",
       "    .dataframe tbody tr th {\n",
       "        vertical-align: top;\n",
       "    }\n",
       "\n",
       "    .dataframe thead th {\n",
       "        text-align: right;\n",
       "    }\n",
       "</style>\n",
       "<table border=\"1\" class=\"dataframe\">\n",
       "  <thead>\n",
       "    <tr style=\"text-align: right;\">\n",
       "      <th></th>\n",
       "      <th>date_submission</th>\n",
       "      <th>num_submissions</th>\n",
       "    </tr>\n",
       "  </thead>\n",
       "  <tbody>\n",
       "    <tr>\n",
       "      <th>0</th>\n",
       "      <td>2018-08-01 00:00:00+00:00</td>\n",
       "      <td>466174</td>\n",
       "    </tr>\n",
       "    <tr>\n",
       "      <th>1</th>\n",
       "      <td>2018-08-02 00:00:00+00:00</td>\n",
       "      <td>451044</td>\n",
       "    </tr>\n",
       "    <tr>\n",
       "      <th>2</th>\n",
       "      <td>2018-08-03 00:00:00+00:00</td>\n",
       "      <td>446405</td>\n",
       "    </tr>\n",
       "    <tr>\n",
       "      <th>3</th>\n",
       "      <td>2018-08-04 00:00:00+00:00</td>\n",
       "      <td>394350</td>\n",
       "    </tr>\n",
       "    <tr>\n",
       "      <th>4</th>\n",
       "      <td>2018-08-05 00:00:00+00:00</td>\n",
       "      <td>390598</td>\n",
       "    </tr>\n",
       "  </tbody>\n",
       "</table>\n",
       "</div>"
      ],
      "text/plain": [
       "            date_submission  num_submissions\n",
       "0 2018-08-01 00:00:00+00:00           466174\n",
       "1 2018-08-02 00:00:00+00:00           451044\n",
       "2 2018-08-03 00:00:00+00:00           446405\n",
       "3 2018-08-04 00:00:00+00:00           394350\n",
       "4 2018-08-05 00:00:00+00:00           390598"
      ]
     },
     "execution_count": 10,
     "metadata": {},
     "output_type": "execute_result"
    }
   ],
   "source": [
    "sql = \"\"\"\n",
    "SELECT \n",
    "    TIMESTAMP_TRUNC(TIMESTAMP_SECONDS(created_utc),DAY) as date_submission,\n",
    "    COUNT(*) as num_submissions\n",
    "FROM `fh-bigquery.reddit_posts.2018_08`\n",
    "GROUP BY date_submission\n",
    "ORDER BY date_submission\n",
    "\"\"\"\n",
    "sub = client.query(sql).to_dataframe()\n",
    "sub.head()"
   ]
  },
  {
   "cell_type": "code",
   "execution_count": 12,
   "metadata": {},
   "outputs": [
    {
     "data": {
      "image/png": "[encoded data removed]",
      "text/plain": [
       "<Figure size 432x288 with 1 Axes>"
      ]
     },
     "metadata": {},
     "output_type": "display_data"
    }
   ],
   "source": [
    "sub.plot(kind='line',x='date_submission',y = 'num_submissions');"
   ]
  },
  {
   "cell_type": "markdown",
   "metadata": {},
   "source": [
    "The average number of post on weekends are less than the average number of posts on weekdays "
   ]
  },
  {
   "cell_type": "code",
   "execution_count": 23,
   "metadata": {},
   "outputs": [
    {
     "name": "stdout",
     "output_type": "stream",
     "text": [
      "Total number of submissions in August, 2018: 13.4M\n"
     ]
    }
   ],
   "source": [
    "# Total number of submissions (Millions)\n",
    "print('Total number of submissions in August, 2018: {0:.1f}M'.format(sub['num_submissions'].sum()/1E6))"
   ]
  },
  {
   "cell_type": "markdown",
   "metadata": {},
   "source": [
    "### When did post go viral in the month of August"
   ]
  },
  {
   "cell_type": "code",
   "execution_count": 27,
   "metadata": {},
   "outputs": [
    {
     "data": {
      "text/html": [
       "<div>\n",
       "<style scoped>\n",
       "    .dataframe tbody tr th:only-of-type {\n",
       "        vertical-align: middle;\n",
       "    }\n",
       "\n",
       "    .dataframe tbody tr th {\n",
       "        vertical-align: top;\n",
       "    }\n",
       "\n",
       "    .dataframe thead th {\n",
       "        text-align: right;\n",
       "    }\n",
       "</style>\n",
       "<table border=\"1\" class=\"dataframe\">\n",
       "  <thead>\n",
       "    <tr style=\"text-align: right;\">\n",
       "      <th></th>\n",
       "      <th>day</th>\n",
       "      <th>hour</th>\n",
       "      <th>high_score</th>\n",
       "    </tr>\n",
       "  </thead>\n",
       "  <tbody>\n",
       "    <tr>\n",
       "      <th>0</th>\n",
       "      <td>1</td>\n",
       "      <td>0</td>\n",
       "      <td>46</td>\n",
       "    </tr>\n",
       "    <tr>\n",
       "      <th>1</th>\n",
       "      <td>1</td>\n",
       "      <td>1</td>\n",
       "      <td>54</td>\n",
       "    </tr>\n",
       "    <tr>\n",
       "      <th>2</th>\n",
       "      <td>1</td>\n",
       "      <td>2</td>\n",
       "      <td>43</td>\n",
       "    </tr>\n",
       "    <tr>\n",
       "      <th>3</th>\n",
       "      <td>1</td>\n",
       "      <td>3</td>\n",
       "      <td>32</td>\n",
       "    </tr>\n",
       "    <tr>\n",
       "      <th>4</th>\n",
       "      <td>1</td>\n",
       "      <td>4</td>\n",
       "      <td>29</td>\n",
       "    </tr>\n",
       "  </tbody>\n",
       "</table>\n",
       "</div>"
      ],
      "text/plain": [
       "   day  hour  high_score\n",
       "0    1     0          46\n",
       "1    1     1          54\n",
       "2    1     2          43\n",
       "3    1     3          32\n",
       "4    1     4          29"
      ]
     },
     "execution_count": 27,
     "metadata": {},
     "output_type": "execute_result"
    }
   ],
   "source": [
    "sql = \"\"\"\n",
    "SELECT\n",
    "    EXTRACT(DAY FROM TIMESTAMP_SECONDS(created_utc)) AS day,\n",
    "    EXTRACT(HOUR FROM TIMESTAMP_SECONDS(created_utc)) AS hour,\n",
    "    SUM(IF(score >= 3000,1,0)) as high_score\n",
    "FROM `fh-bigquery.reddit_posts.2018_08`\n",
    "GROUP BY day, hour\n",
    "ORDER BY day, hour\n",
    "\"\"\"\n",
    "\n",
    "viral_post = client.query(sql).to_dataframe()\n",
    "viral_post.head()"
   ]
  },
  {
   "cell_type": "code",
   "execution_count": 28,
   "metadata": {},
   "outputs": [],
   "source": [
    "viral_post_pivot_table = viral_post.pivot(index = 'day', columns = 'hour', values = 'high_score')"
   ]
  },
  {
   "cell_type": "code",
   "execution_count": 66,
   "metadata": {},
   "outputs": [
    {
     "data": {
      "image/png": "[encoded data removed]",
      "text/plain": [
       "<Figure size 1728x720 with 2 Axes>"
      ]
     },
     "metadata": {},
     "output_type": "display_data"
    }
   ],
   "source": [
    "# The colorbar shows the number of posts which had score > 3000\n",
    "import matplotlib.pyplot as plt\n",
    "plt.figure(figsize=(24,10))\n",
    "plt.imshow(viral_post_pivot_table.T, vmax = 100 , vmin = 0)\n",
    "cb = plt.colorbar();\n",
    "cb.set_label('Number of posts with score > 3000', rotation = 270)\n",
    "plt.ylabel('Hour in Day')\n",
    "plt.xlabel('Day of Month');"
   ]
  },
  {
   "cell_type": "markdown",
   "metadata": {},
   "source": [
    "Most post go viral during the day time between 10:00 am and 3:00 pm, only Aug 20th saw more than 100 posts go viral at 2 am"
   ]
  },
  {
   "cell_type": "code",
   "execution_count": 77,
   "metadata": {},
   "outputs": [
    {
     "data": {
      "text/html": [
       "<div>\n",
       "<style scoped>\n",
       "    .dataframe tbody tr th:only-of-type {\n",
       "        vertical-align: middle;\n",
       "    }\n",
       "\n",
       "    .dataframe tbody tr th {\n",
       "        vertical-align: top;\n",
       "    }\n",
       "\n",
       "    .dataframe thead th {\n",
       "        text-align: right;\n",
       "    }\n",
       "</style>\n",
       "<table border=\"1\" class=\"dataframe\">\n",
       "  <thead>\n",
       "    <tr style=\"text-align: right;\">\n",
       "      <th></th>\n",
       "      <th>day_of_week</th>\n",
       "      <th>hour</th>\n",
       "      <th>high_score</th>\n",
       "    </tr>\n",
       "  </thead>\n",
       "  <tbody>\n",
       "    <tr>\n",
       "      <th>0</th>\n",
       "      <td>1</td>\n",
       "      <td>0</td>\n",
       "      <td>200</td>\n",
       "    </tr>\n",
       "    <tr>\n",
       "      <th>1</th>\n",
       "      <td>1</td>\n",
       "      <td>1</td>\n",
       "      <td>182</td>\n",
       "    </tr>\n",
       "    <tr>\n",
       "      <th>2</th>\n",
       "      <td>1</td>\n",
       "      <td>2</td>\n",
       "      <td>220</td>\n",
       "    </tr>\n",
       "    <tr>\n",
       "      <th>3</th>\n",
       "      <td>1</td>\n",
       "      <td>3</td>\n",
       "      <td>139</td>\n",
       "    </tr>\n",
       "    <tr>\n",
       "      <th>4</th>\n",
       "      <td>1</td>\n",
       "      <td>4</td>\n",
       "      <td>145</td>\n",
       "    </tr>\n",
       "  </tbody>\n",
       "</table>\n",
       "</div>"
      ],
      "text/plain": [
       "   day_of_week  hour  high_score\n",
       "0            1     0         200\n",
       "1            1     1         182\n",
       "2            1     2         220\n",
       "3            1     3         139\n",
       "4            1     4         145"
      ]
     },
     "execution_count": 77,
     "metadata": {},
     "output_type": "execute_result"
    }
   ],
   "source": [
    "sql = \"\"\"\n",
    "SELECT\n",
    "    EXTRACT(DAYOFWEEK FROM TIMESTAMP_SECONDS(created_utc)) AS day_of_week,\n",
    "    EXTRACT(HOUR FROM TIMESTAMP_SECONDS(created_utc)) AS hour,\n",
    "    SUM(IF(score >= 3000,1,0)) as high_score\n",
    "FROM `fh-bigquery.reddit_posts.2018_08`\n",
    "GROUP BY day_of_week, hour\n",
    "ORDER BY day_of_week, hour\n",
    "\"\"\"\n",
    "\n",
    "viral_post_dow = client.query(sql).to_dataframe()\n",
    "viral_post_dow.head()"
   ]
  },
  {
   "cell_type": "code",
   "execution_count": 81,
   "metadata": {},
   "outputs": [
    {
     "data": {
      "text/plain": [
       "count    168.000000\n",
       "mean     251.273810\n",
       "std       96.565308\n",
       "min       88.000000\n",
       "25%      176.000000\n",
       "50%      240.000000\n",
       "75%      324.500000\n",
       "max      471.000000\n",
       "Name: high_score, dtype: float64"
      ]
     },
     "execution_count": 81,
     "metadata": {},
     "output_type": "execute_result"
    }
   ],
   "source": [
    "viral_post_dow['high_score'].describe()"
   ]
  },
  {
   "cell_type": "code",
   "execution_count": 80,
   "metadata": {},
   "outputs": [],
   "source": [
    "viral_post_dow_pivot_table = df2.pivot(index = 'day_of_week', columns = 'hour', values = 'high_score')"
   ]
  },
  {
   "cell_type": "code",
   "execution_count": 99,
   "metadata": {},
   "outputs": [
    {
     "data": {
      "image/png": "[encoded data removed]",
      "text/plain": [
       "<Figure size 1152x576 with 2 Axes>"
      ]
     },
     "metadata": {},
     "output_type": "display_data"
    }
   ],
   "source": [
    "# The colorbar shows the number of posts which had score > 3000\n",
    "import matplotlib.pyplot as plt\n",
    "plt.figure(figsize=(16,8))\n",
    "plt.imshow(viral_post_dow_pivot_table, vmax = 450 , vmin = 0)\n",
    "cb = plt.colorbar(orientation = 'horizontal');\n",
    "cb.set_label('Number of posts with score > 3000', rotation = 0)\n",
    "plt.xlabel('Hour in Day')\n",
    "plt.ylabel('Day of Week')\n",
    "\n",
    "names = ['Sunday','Monday','Tuesday','Wednesday','Thursday','Friday','Saturday']\n",
    "plt.yticks(range(len(names)), names, rotation = 'horizontal')\n",
    "plt.savefig('temp');"
   ]
  },
  {
   "cell_type": "markdown",
   "metadata": {},
   "source": [
    "### Which subreddit got the most score?"
   ]
  },
  {
   "cell_type": "code",
   "execution_count": 117,
   "metadata": {},
   "outputs": [
    {
     "data": {
      "text/html": [
       "<div>\n",
       "<style scoped>\n",
       "    .dataframe tbody tr th:only-of-type {\n",
       "        vertical-align: middle;\n",
       "    }\n",
       "\n",
       "    .dataframe tbody tr th {\n",
       "        vertical-align: top;\n",
       "    }\n",
       "\n",
       "    .dataframe thead th {\n",
       "        text-align: right;\n",
       "    }\n",
       "</style>\n",
       "<table border=\"1\" class=\"dataframe\">\n",
       "  <thead>\n",
       "    <tr style=\"text-align: right;\">\n",
       "      <th></th>\n",
       "      <th>subreddit</th>\n",
       "      <th>sum_score</th>\n",
       "    </tr>\n",
       "  </thead>\n",
       "  <tbody>\n",
       "    <tr>\n",
       "      <th>0</th>\n",
       "      <td>funny</td>\n",
       "      <td>29933612</td>\n",
       "    </tr>\n",
       "    <tr>\n",
       "      <th>1</th>\n",
       "      <td>aww</td>\n",
       "      <td>27138456</td>\n",
       "    </tr>\n",
       "    <tr>\n",
       "      <th>2</th>\n",
       "      <td>The_Donald</td>\n",
       "      <td>20155123</td>\n",
       "    </tr>\n",
       "    <tr>\n",
       "      <th>3</th>\n",
       "      <td>politics</td>\n",
       "      <td>18961579</td>\n",
       "    </tr>\n",
       "    <tr>\n",
       "      <th>4</th>\n",
       "      <td>pics</td>\n",
       "      <td>18734253</td>\n",
       "    </tr>\n",
       "  </tbody>\n",
       "</table>\n",
       "</div>"
      ],
      "text/plain": [
       "    subreddit  sum_score\n",
       "0       funny   29933612\n",
       "1         aww   27138456\n",
       "2  The_Donald   20155123\n",
       "3    politics   18961579\n",
       "4        pics   18734253"
      ]
     },
     "execution_count": 117,
     "metadata": {},
     "output_type": "execute_result"
    }
   ],
   "source": [
    "sql = \"\"\"\n",
    "SELECT \n",
    "    subreddit,\n",
    "    SUM(SCORE) AS sum_score\n",
    "FROM `fh-bigquery.reddit_posts.2018_08`\n",
    "GROUP BY subreddit \n",
    "ORDER BY sum_score DESC\n",
    "\"\"\"\n",
    "subreddit_score = client.query(sql).to_dataframe()\n",
    "subreddit_score.head()"
   ]
  },
  {
   "cell_type": "code",
   "execution_count": 161,
   "metadata": {},
   "outputs": [],
   "source": [
    "subreddit_score_top = subreddit_score.iloc[:10]"
   ]
  },
  {
   "cell_type": "code",
   "execution_count": 162,
   "metadata": {},
   "outputs": [],
   "source": [
    "subreddit_score_top.index = subreddit_score_top['subreddit']"
   ]
  },
  {
   "cell_type": "code",
   "execution_count": 163,
   "metadata": {},
   "outputs": [
    {
     "data": {
      "image/png": "[encoded data removed]",
      "text/plain": [
       "<Figure size 432x288 with 1 Axes>"
      ]
     },
     "metadata": {},
     "output_type": "display_data"
    }
   ],
   "source": [
    "subreddit_score_top.plot(kind='barh').invert_yaxis()"
   ]
  },
  {
   "cell_type": "markdown",
   "metadata": {},
   "source": [
    "### Which subreddit had most number of unique authors?"
   ]
  },
  {
   "cell_type": "code",
   "execution_count": 166,
   "metadata": {},
   "outputs": [
    {
     "data": {
      "text/html": [
       "<div>\n",
       "<style scoped>\n",
       "    .dataframe tbody tr th:only-of-type {\n",
       "        vertical-align: middle;\n",
       "    }\n",
       "\n",
       "    .dataframe tbody tr th {\n",
       "        vertical-align: top;\n",
       "    }\n",
       "\n",
       "    .dataframe thead th {\n",
       "        text-align: right;\n",
       "    }\n",
       "</style>\n",
       "<table border=\"1\" class=\"dataframe\">\n",
       "  <thead>\n",
       "    <tr style=\"text-align: right;\">\n",
       "      <th></th>\n",
       "      <th>subreddit</th>\n",
       "      <th>date_submission</th>\n",
       "      <th>unique_authors</th>\n",
       "    </tr>\n",
       "  </thead>\n",
       "  <tbody>\n",
       "    <tr>\n",
       "      <th>0</th>\n",
       "      <td>AskReddit</td>\n",
       "      <td>2018-08-01 00:00:00+00:00</td>\n",
       "      <td>4496</td>\n",
       "    </tr>\n",
       "    <tr>\n",
       "      <th>1</th>\n",
       "      <td>NoMansSkyTheGame</td>\n",
       "      <td>2018-08-01 00:00:00+00:00</td>\n",
       "      <td>2249</td>\n",
       "    </tr>\n",
       "    <tr>\n",
       "      <th>2</th>\n",
       "      <td>FortNiteBR</td>\n",
       "      <td>2018-08-01 00:00:00+00:00</td>\n",
       "      <td>1964</td>\n",
       "    </tr>\n",
       "    <tr>\n",
       "      <th>3</th>\n",
       "      <td>PewdiepieSubmissions</td>\n",
       "      <td>2018-08-01 00:00:00+00:00</td>\n",
       "      <td>1751</td>\n",
       "    </tr>\n",
       "    <tr>\n",
       "      <th>4</th>\n",
       "      <td>Showerthoughts</td>\n",
       "      <td>2018-08-01 00:00:00+00:00</td>\n",
       "      <td>1623</td>\n",
       "    </tr>\n",
       "  </tbody>\n",
       "</table>\n",
       "</div>"
      ],
      "text/plain": [
       "              subreddit           date_submission  unique_authors\n",
       "0             AskReddit 2018-08-01 00:00:00+00:00            4496\n",
       "1      NoMansSkyTheGame 2018-08-01 00:00:00+00:00            2249\n",
       "2            FortNiteBR 2018-08-01 00:00:00+00:00            1964\n",
       "3  PewdiepieSubmissions 2018-08-01 00:00:00+00:00            1751\n",
       "4        Showerthoughts 2018-08-01 00:00:00+00:00            1623"
      ]
     },
     "execution_count": 166,
     "metadata": {},
     "output_type": "execute_result"
    }
   ],
   "source": [
    "sql = \"\"\"\n",
    "SELECT \n",
    "    subreddit,\n",
    "    TIMESTAMP_TRUNC(TIMESTAMP_SECONDS(created_utc),DAY) as date_submission,\n",
    "    COUNT(DISTINCT(author)) AS unique_authors   \n",
    "FROM `fh-bigquery.reddit_posts.2018_08`\n",
    "WHERE author NOT in (SELECT author FROM `fh-bigquery.reddit_comments.bots_201505`)\n",
    "GROUP BY subreddit, date_submission\n",
    "HAVING unique_authors > 100\n",
    "ORDER BY date_submission ASC, unique_authors DESC\n",
    "\"\"\"\n",
    "unique_authors = client.query(sql).to_dataframe()\n",
    "unique_authors.head()"
   ]
  },
  {
   "cell_type": "code",
   "execution_count": 201,
   "metadata": {},
   "outputs": [],
   "source": [
    "unique_authors_aug = unique_authors.groupby('subreddit')['unique_authors'].sum()"
   ]
  },
  {
   "cell_type": "code",
   "execution_count": 202,
   "metadata": {},
   "outputs": [],
   "source": [
    "#unique_authors_aug = pd.DataFrame(unique_authors_aug)"
   ]
  },
  {
   "cell_type": "code",
   "execution_count": 203,
   "metadata": {},
   "outputs": [],
   "source": [
    "unique_authors_aug_top = unique_authors_aug.sort_values(ascending = False).iloc[:10]"
   ]
  },
  {
   "cell_type": "code",
   "execution_count": 210,
   "metadata": {
    "scrolled": true
   },
   "outputs": [
    {
     "data": {
      "image/png": "[encoded data removed]",
      "text/plain": [
       "<Figure size 432x288 with 1 Axes>"
      ]
     },
     "metadata": {},
     "output_type": "display_data"
    }
   ],
   "source": [
    "unique_authors_aug_top.plot(kind='barh', x = 'unique_authors').invert_yaxis()\n",
    "plt.title('Subreddits with greatest # of unique authors in Aug 2018')\n",
    "plt.xlabel('# of unique authors');"
   ]
  },
  {
   "cell_type": "markdown",
   "metadata": {},
   "source": [
    "### Which subreddit got the most new authors compared to previous month?"
   ]
  },
  {
   "cell_type": "code",
   "execution_count": 215,
   "metadata": {},
   "outputs": [
    {
     "data": {
      "text/html": [
       "<div>\n",
       "<style scoped>\n",
       "    .dataframe tbody tr th:only-of-type {\n",
       "        vertical-align: middle;\n",
       "    }\n",
       "\n",
       "    .dataframe tbody tr th {\n",
       "        vertical-align: top;\n",
       "    }\n",
       "\n",
       "    .dataframe thead th {\n",
       "        text-align: right;\n",
       "    }\n",
       "</style>\n",
       "<table border=\"1\" class=\"dataframe\">\n",
       "  <thead>\n",
       "    <tr style=\"text-align: right;\">\n",
       "      <th></th>\n",
       "      <th>subreddit</th>\n",
       "      <th>unique_authors</th>\n",
       "    </tr>\n",
       "  </thead>\n",
       "  <tbody>\n",
       "    <tr>\n",
       "      <th>0</th>\n",
       "      <td>AskReddit</td>\n",
       "      <td>32814</td>\n",
       "    </tr>\n",
       "    <tr>\n",
       "      <th>1</th>\n",
       "      <td>FortNiteBR</td>\n",
       "      <td>18769</td>\n",
       "    </tr>\n",
       "    <tr>\n",
       "      <th>2</th>\n",
       "      <td>PewdiepieSubmissions</td>\n",
       "      <td>18617</td>\n",
       "    </tr>\n",
       "    <tr>\n",
       "      <th>3</th>\n",
       "      <td>aww</td>\n",
       "      <td>15903</td>\n",
       "    </tr>\n",
       "    <tr>\n",
       "      <th>4</th>\n",
       "      <td>funny</td>\n",
       "      <td>13899</td>\n",
       "    </tr>\n",
       "  </tbody>\n",
       "</table>\n",
       "</div>"
      ],
      "text/plain": [
       "              subreddit  unique_authors\n",
       "0             AskReddit           32814\n",
       "1            FortNiteBR           18769\n",
       "2  PewdiepieSubmissions           18617\n",
       "3                   aww           15903\n",
       "4                 funny           13899"
      ]
     },
     "execution_count": 215,
     "metadata": {},
     "output_type": "execute_result"
    }
   ],
   "source": [
    "sql = \"\"\"\n",
    "SELECT \n",
    "    subreddit,\n",
    "    COUNT(DISTINCT(author)) AS unique_authors   \n",
    "FROM `fh-bigquery.reddit_posts.2018_08`\n",
    "WHERE \n",
    "    author NOT IN (SELECT DISTINCT(author) FROM `fh-bigquery.reddit_posts.2018_07`)\n",
    "    AND subreddit IN (SELECT subreddit FROM `fh-bigquery.reddit_posts.2018_08` GROUP BY subreddit ORDER BY SUM(score) DESC LIMIT 50)\n",
    "GROUP BY subreddit\n",
    "HAVING unique_authors > 100\n",
    "ORDER BY unique_authors DESC\n",
    "\"\"\"\n",
    "unique_new_authors_aug = client.query(sql).to_dataframe()\n",
    "unique_new_authors_aug.head()\n"
   ]
  },
  {
   "cell_type": "code",
   "execution_count": 222,
   "metadata": {},
   "outputs": [],
   "source": [
    "unique_new_authors_aug_top = unique_new_authors_aug.iloc[:10]"
   ]
  },
  {
   "cell_type": "code",
   "execution_count": 230,
   "metadata": {},
   "outputs": [
    {
     "data": {
      "image/png": "[encoded data removed]",
      "text/plain": [
       "<Figure size 432x288 with 1 Axes>"
      ]
     },
     "metadata": {},
     "output_type": "display_data"
    }
   ],
   "source": [
    "unique_new_authors_aug_top.set_index('subreddit').plot(kind='barh').invert_yaxis()"
   ]
  },
  {
   "cell_type": "markdown",
   "metadata": {},
   "source": [
    "On average the top subreddits added 15k new authors with AskReddit adding the highest 32k and videos adding 10k (10th place) authors respectively. Most subreddits which have the most number of unique authors also added the most number of new authors, the only exception being 'gaming','pics' and 'video' "
   ]
  },
  {
   "cell_type": "code",
   "execution_count": null,
   "metadata": {},
   "outputs": [],
   "source": []
  },
  {
   "cell_type": "code",
   "execution_count": null,
   "metadata": {},
   "outputs": [],
   "source": []
  }
 ],
 "metadata": {
  "kernelspec": {
   "display_name": "Python 3",
   "language": "python",
   "name": "python3"
  },
  "language_info": {
   "codemirror_mode": {
    "name": "ipython",
    "version": 3
   },
   "file_extension": ".py",
   "mimetype": "text/x-python",
   "name": "python",
   "nbconvert_exporter": "python",
   "pygments_lexer": "ipython3",
   "version": "3.6.5"
  }
 },
 "nbformat": 4,
 "nbformat_minor": 2
}
